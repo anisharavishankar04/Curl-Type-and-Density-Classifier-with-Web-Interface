{
  "cells": [
    {
      "cell_type": "code",
      "execution_count": null,
      "metadata": {
        "id": "tgXt0qwcPEAE"
      },
      "outputs": [],
      "source": [
        "import torch\n",
        "import torch.nn as nn\n",
        "from torchvision import datasets, models, transforms\n",
        "from torch.utils.data import DataLoader\n",
        "import numpy as np\n",
        "import os\n",
        "import random\n",
        "from sklearn.metrics import confusion_matrix\n",
        "import seaborn as sns\n",
        "import matplotlib.pyplot as plt"
      ]
    },
    {
      "cell_type": "code",
      "source": [
        "from google.colab import drive\n",
        "drive.mount('/content/drive')"
      ],
      "metadata": {
        "colab": {
          "base_uri": "https://localhost:8080/"
        },
        "id": "MkAYjv9sTbqN",
        "outputId": "895f8042-42f7-4830-b381-b896562027c4"
      },
      "execution_count": null,
      "outputs": [
        {
          "output_type": "stream",
          "name": "stdout",
          "text": [
            "Mounted at /content/drive\n"
          ]
        }
      ]
    },
    {
      "cell_type": "code",
      "execution_count": null,
      "metadata": {
        "id": "-0PQA4v-PU-D"
      },
      "outputs": [],
      "source": [
        "# 1. Set device and seeds\n",
        "device = torch.device(\"cuda\" if torch.cuda.is_available() else \"cpu\")\n",
        "seed = 42\n",
        "torch.manual_seed(seed)\n",
        "np.random.seed(seed)\n",
        "random.seed(seed)\n",
        "if torch.cuda.is_available():\n",
        "    torch.cuda.manual_seed(seed)\n",
        "    torch.backends.cudnn.deterministic = True\n",
        "    torch.backends.cudnn.benchmark = False"
      ]
    },
    {
      "cell_type": "code",
      "execution_count": null,
      "metadata": {
        "id": "hEoSc_Z3PYMq"
      },
      "outputs": [],
      "source": [
        "train_transform = transforms.Compose([\n",
        "    transforms.Resize(256),\n",
        "    transforms.RandomResizedCrop(224),\n",
        "    transforms.RandomHorizontalFlip(),\n",
        "    transforms.RandomVerticalFlip(),\n",
        "    transforms.ToTensor(),\n",
        "    transforms.Normalize([0.485, 0.456, 0.406],\n",
        "                         [0.229, 0.224, 0.225])\n",
        "])\n",
        "\n",
        "val_test_transform = transforms.Compose([\n",
        "    transforms.Resize(256),\n",
        "    transforms.CenterCrop(224),\n",
        "    transforms.ToTensor(),\n",
        "    transforms.Normalize([0.485, 0.456, 0.406],\n",
        "                         [0.229, 0.224, 0.225])\n",
        "])"
      ]
    },
    {
      "cell_type": "code",
      "execution_count": null,
      "metadata": {
        "id": "exdjAlJaPYzD"
      },
      "outputs": [],
      "source": [
        "# 3. Dataset paths\n",
        "base_path = \"/content/drive/MyDrive/curl_types_cropped_split 2\"\n",
        "train_path = os.path.join(base_path, \"train\")\n",
        "val_path = os.path.join(base_path, \"val\")\n",
        "test_path = os.path.join(base_path, \"test\")"
      ]
    },
    {
      "cell_type": "code",
      "execution_count": null,
      "metadata": {
        "id": "S3m7LlBYPayc"
      },
      "outputs": [],
      "source": [
        "# 4. Load datasets\n",
        "train_dataset = datasets.ImageFolder(train_path, transform=train_transform)\n",
        "val_dataset = datasets.ImageFolder(val_path, transform=val_test_transform)\n",
        "test_dataset = datasets.ImageFolder(test_path, transform=val_test_transform)\n",
        "\n",
        "train_loader = DataLoader(train_dataset, batch_size=16, shuffle=True)\n",
        "val_loader = DataLoader(val_dataset, batch_size=16, shuffle=False)\n",
        "test_loader = DataLoader(test_dataset, batch_size=16, shuffle=False)"
      ]
    },
    {
      "cell_type": "code",
      "execution_count": null,
      "metadata": {
        "id": "USZhdr1PPd5r",
        "colab": {
          "base_uri": "https://localhost:8080/"
        },
        "outputId": "5fba5d3f-1f28-4523-e8df-35e641cb98f3"
      },
      "outputs": [
        {
          "output_type": "stream",
          "name": "stderr",
          "text": [
            "/usr/local/lib/python3.11/dist-packages/torchvision/models/_utils.py:208: UserWarning: The parameter 'pretrained' is deprecated since 0.13 and may be removed in the future, please use 'weights' instead.\n",
            "  warnings.warn(\n",
            "/usr/local/lib/python3.11/dist-packages/torchvision/models/_utils.py:223: UserWarning: Arguments other than a weight enum or `None` for 'weights' are deprecated since 0.13 and may be removed in the future. The current behavior is equivalent to passing `weights=EfficientNet_B2_Weights.IMAGENET1K_V1`. You can also use `weights=EfficientNet_B2_Weights.DEFAULT` to get the most up-to-date weights.\n",
            "  warnings.warn(msg)\n",
            "Downloading: \"https://download.pytorch.org/models/efficientnet_b2_rwightman-c35c1473.pth\" to /root/.cache/torch/hub/checkpoints/efficientnet_b2_rwightman-c35c1473.pth\n",
            "100%|██████████| 35.2M/35.2M [00:00<00:00, 125MB/s]\n"
          ]
        },
        {
          "output_type": "stream",
          "name": "stdout",
          "text": [
            "Initial Classifier Training - Epoch 1, Train Loss: 23.6301, Train Acc: 40.50%\n",
            "Initial Classifier Training - Epoch 2, Train Loss: 20.0990, Train Acc: 56.27%\n",
            "Initial Classifier Training - Epoch 3, Train Loss: 18.1160, Train Acc: 66.67%\n",
            "Initial Classifier Training - Epoch 4, Train Loss: 16.7965, Train Acc: 71.33%\n",
            "Initial Classifier Training - Epoch 5, Train Loss: 16.1073, Train Acc: 69.89%\n"
          ]
        }
      ],
      "source": [
        "# 5. Load pre-trained model\n",
        "model = models.efficientnet_b2(pretrained=True)\n",
        "num_classes = len(train_dataset.classes)\n",
        "model.classifier = nn.Sequential(\n",
        "    nn.Dropout(0.4),\n",
        "    nn.Linear(model.classifier[1].in_features, num_classes)\n",
        ")\n",
        "\n",
        "model = model.to(device)\n",
        "\n",
        "# Only train the classifier initially\n",
        "optimizer_classifier = torch.optim.Adam(model.classifier.parameters(), lr=0.001, weight_decay=1e-4)\n",
        "criterion = nn.CrossEntropyLoss(label_smoothing=0.1)\n",
        "\n",
        "initial_epochs = 5 # Train only classifier for a few epochs\n",
        "for epoch in range(initial_epochs):\n",
        "    model.train()\n",
        "    running_loss = 0.0\n",
        "    correct = 0\n",
        "    for imgs, labels in train_loader:\n",
        "        imgs, labels = imgs.to(device), labels.to(device)\n",
        "        optimizer_classifier.zero_grad()\n",
        "        outputs = model(imgs)\n",
        "        loss = criterion(outputs, labels)\n",
        "        loss.backward()\n",
        "        optimizer_classifier.step()\n",
        "\n",
        "        running_loss += loss.item()\n",
        "        _, preds = torch.max(outputs, 1)\n",
        "        correct += (preds == labels).sum().item()\n",
        "\n",
        "    train_acc = 100 * correct / len(train_dataset)\n",
        "    print(f\"Initial Classifier Training - Epoch {epoch+1}, Train Loss: {running_loss:.4f}, Train Acc: {train_acc:.2f}%\")\n",
        "\n",
        "# Now freeze the base layers\n",
        "for param in model.features.parameters():\n",
        "    param.requires_grad = False\n",
        "\n",
        "# Update optimizer to train all trainable parameters (just the classifier now)\n",
        "optimizer = torch.optim.Adam(model.classifier.parameters(), lr=0.001, weight_decay=1e-4)"
      ]
    },
    {
      "cell_type": "code",
      "source": [
        "for param in model.features[-5:].parameters():  # unfreeze last 5 blocks\n",
        "    param.requires_grad = True"
      ],
      "metadata": {
        "id": "EHs9mF8UlB3v"
      },
      "execution_count": null,
      "outputs": []
    },
    {
      "cell_type": "code",
      "execution_count": null,
      "metadata": {
        "id": "DzV5pXGkPfwB"
      },
      "outputs": [],
      "source": [
        "# 6. Loss, optimizer\n",
        "criterion = nn.CrossEntropyLoss(label_smoothing=0.1)\n",
        "optimizer = torch.optim.Adam(model.parameters(), lr=0.001, weight_decay=1e-4)"
      ]
    },
    {
      "cell_type": "code",
      "execution_count": null,
      "metadata": {
        "id": "oUe2IfR3Pj4V",
        "colab": {
          "base_uri": "https://localhost:8080/"
        },
        "outputId": "5751d1d8-e50d-45b4-9fb8-bb904a3bd718"
      },
      "outputs": [
        {
          "output_type": "stream",
          "name": "stdout",
          "text": [
            "Epoch 1, Train Loss: 19.6519, Train Acc: 62.01%\n",
            "Val Loss: 3.4901, Val Acc: 73.33%\n",
            "Epoch 2, Train Loss: 16.0417, Train Acc: 71.33%\n",
            "Val Loss: 3.0350, Val Acc: 76.67%\n",
            "Epoch 3, Train Loss: 16.0802, Train Acc: 70.25%\n",
            "Val Loss: 3.3696, Val Acc: 71.67%\n",
            "Epoch 4, Train Loss: 16.3989, Train Acc: 68.10%\n",
            "Val Loss: 3.6082, Val Acc: 71.67%\n",
            "Epoch 5, Train Loss: 14.7184, Train Acc: 72.76%\n",
            "Val Loss: 3.5401, Val Acc: 73.33%\n",
            "Epoch 6, Train Loss: 15.8062, Train Acc: 72.76%\n",
            "Val Loss: 3.2576, Val Acc: 80.00%\n",
            "Epoch 7, Train Loss: 13.7458, Train Acc: 78.14%\n",
            "Val Loss: 2.9315, Val Acc: 80.00%\n",
            "Epoch 8, Train Loss: 14.3282, Train Acc: 75.27%\n",
            "Val Loss: 3.4032, Val Acc: 75.00%\n",
            "Epoch 9, Train Loss: 13.1890, Train Acc: 81.72%\n",
            "Val Loss: 3.2325, Val Acc: 75.00%\n",
            "Epoch 10, Train Loss: 13.6210, Train Acc: 79.93%\n",
            "Val Loss: 2.8176, Val Acc: 80.00%\n",
            "Epoch 11, Train Loss: 13.0402, Train Acc: 81.36%\n",
            "Val Loss: 2.6172, Val Acc: 83.33%\n",
            "Epoch 12, Train Loss: 11.5928, Train Acc: 85.66%\n",
            "Val Loss: 3.0154, Val Acc: 76.67%\n",
            "Epoch 13, Train Loss: 13.4073, Train Acc: 78.14%\n",
            "Val Loss: 3.2601, Val Acc: 76.67%\n",
            "Epoch 14, Train Loss: 13.0473, Train Acc: 79.21%\n",
            "Val Loss: 3.7971, Val Acc: 73.33%\n",
            "Epoch 15, Train Loss: 12.5828, Train Acc: 77.78%\n",
            "Val Loss: 3.0872, Val Acc: 80.00%\n",
            "Epoch 16, Train Loss: 12.3871, Train Acc: 80.29%\n",
            "Val Loss: 2.8529, Val Acc: 81.67%\n",
            "Early stopping.\n"
          ]
        }
      ],
      "source": [
        "# 7. Training loop with early stopping\n",
        "best_val_loss = np.inf\n",
        "patience = 5\n",
        "epochs_no_improve = 0\n",
        "num_epochs = 50\n",
        "\n",
        "for epoch in range(num_epochs):\n",
        "    model.train()\n",
        "    running_loss = 0.0\n",
        "    correct = 0\n",
        "    for imgs, labels in train_loader:\n",
        "        imgs, labels = imgs.to(device), labels.to(device)\n",
        "        optimizer.zero_grad()\n",
        "        outputs = model(imgs)\n",
        "        loss = criterion(outputs, labels)\n",
        "        loss.backward()\n",
        "        optimizer.step()\n",
        "\n",
        "        running_loss += loss.item()\n",
        "        _, preds = torch.max(outputs, 1)\n",
        "        correct += (preds == labels).sum().item()\n",
        "\n",
        "    train_acc = 100 * correct / len(train_dataset)\n",
        "    print(f\"Epoch {epoch+1}, Train Loss: {running_loss:.4f}, Train Acc: {train_acc:.2f}%\")\n",
        "\n",
        "    # Validation\n",
        "    model.eval()\n",
        "    val_loss = 0.0\n",
        "    val_correct = 0\n",
        "    with torch.no_grad():\n",
        "        for imgs, labels in val_loader:\n",
        "            imgs, labels = imgs.to(device), labels.to(device)\n",
        "            outputs = model(imgs)\n",
        "            loss = criterion(outputs, labels)\n",
        "            val_loss += loss.item()\n",
        "            _, preds = torch.max(outputs, 1)\n",
        "            val_correct += (preds == labels).sum().item()\n",
        "\n",
        "    val_acc = 100 * val_correct / len(val_dataset)\n",
        "    print(f\"Val Loss: {val_loss:.4f}, Val Acc: {val_acc:.2f}%\")\n",
        "\n",
        "    if val_loss < best_val_loss:\n",
        "        best_val_loss = val_loss\n",
        "        epochs_no_improve = 0\n",
        "        torch.save(model.state_dict(), \"best_model.pth\")\n",
        "    else:\n",
        "        epochs_no_improve += 1\n",
        "        if epochs_no_improve >= patience:\n",
        "            print(\"Early stopping.\")\n",
        "            break"
      ]
    },
    {
      "cell_type": "code",
      "execution_count": null,
      "metadata": {
        "id": "J8xTNF0IPks9"
      },
      "outputs": [],
      "source": [
        "# 8. Load best model and evaluate\n",
        "model.load_state_dict(torch.load(\"best_model.pth\"))\n",
        "\n",
        "def evaluate_model(loader, dataset_name):\n",
        "    model.eval()\n",
        "    correct = 0\n",
        "    all_preds, all_labels = [], []\n",
        "    with torch.no_grad():\n",
        "        for imgs, labels in loader:\n",
        "            imgs, labels = imgs.to(device), labels.to(device)\n",
        "            outputs = model(imgs)\n",
        "            _, preds = torch.max(outputs, 1)\n",
        "            correct += (preds == labels).sum().item()\n",
        "            all_preds.extend(preds.cpu().numpy())\n",
        "            all_labels.extend(labels.cpu().numpy())\n",
        "    accuracy = 100 * correct / len(loader.dataset)\n",
        "    print(f\"{dataset_name} Accuracy: {accuracy:.2f}%\")\n",
        "\n",
        "    # Confusion matrix\n",
        "    cm = confusion_matrix(all_labels, all_preds)\n",
        "    plt.figure(figsize=(8, 6))\n",
        "    sns.heatmap(cm, annot=True, fmt='d', xticklabels=train_dataset.classes,\n",
        "                yticklabels=train_dataset.classes, cmap='Blues')\n",
        "    plt.title(f\"{dataset_name} Confusion Matrix\")\n",
        "    plt.xlabel(\"Predicted\")\n",
        "    plt.ylabel(\"True\")\n",
        "    plt.show()"
      ]
    },
    {
      "cell_type": "code",
      "execution_count": null,
      "metadata": {
        "id": "eyk_iTajPodF",
        "colab": {
          "base_uri": "https://localhost:8080/",
          "height": 1000
        },
        "outputId": "0daa58ed-5c56-42ca-d11b-6802a983cad9"
      },
      "outputs": [
        {
          "output_type": "stream",
          "name": "stdout",
          "text": [
            "Validation Accuracy: 83.33%\n"
          ]
        },
        {
          "output_type": "display_data",
          "data": {
            "text/plain": [
              "<Figure size 800x600 with 2 Axes>"
            ],
            "image/png": "[encoded data removed]"
          },
          "metadata": {}
        },
        {
          "output_type": "stream",
          "name": "stdout",
          "text": [
            "Test Accuracy: 81.67%\n"
          ]
        },
        {
          "output_type": "display_data",
          "data": {
            "text/plain": [
              "<Figure size 800x600 with 2 Axes>"
            ],
            "image/png": "[encoded data removed]"
          },
          "metadata": {}
        }
      ],
      "source": [
        "# 9. Final evaluations\n",
        "evaluate_model(val_loader, \"Validation\")\n",
        "evaluate_model(test_loader, \"Test\")"
      ]
    },
    {
      "cell_type": "code",
      "source": [
        "from google.colab import files\n",
        "files.download(\"best_model.pth\")"
      ],
      "metadata": {
        "id": "8jjfku3xHDc6",
        "colab": {
          "base_uri": "https://localhost:8080/",
          "height": 17
        },
        "outputId": "79af9443-74ef-472a-ecf3-a425e6cf4b48"
      },
      "execution_count": null,
      "outputs": [
        {
          "output_type": "display_data",
          "data": {
            "text/plain": [
              "<IPython.core.display.Javascript object>"
            ],
            "application/javascript": [
              "\n",
              "    async function download(id, filename, size) {\n",
              "      if (!google.colab.kernel.accessAllowed) {\n",
              "        return;\n",
              "      }\n",
              "      const div = document.createElement('div');\n",
              "      const label = document.createElement('label');\n",
              "      label.textContent = `Downloading \"${filename}\": `;\n",
              "      div.appendChild(label);\n",
              "      const progress = document.createElement('progress');\n",
              "      progress.max = size;\n",
              "      div.appendChild(progress);\n",
              "      document.body.appendChild(div);\n",
              "\n",
              "      const buffers = [];\n",
              "      let downloaded = 0;\n",
              "\n",
              "      const channel = await google.colab.kernel.comms.open(id);\n",
              "      // Send a message to notify the kernel that we're ready.\n",
              "      channel.send({})\n",
              "\n",
              "      for await (const message of channel.messages) {\n",
              "        // Send a message to notify the kernel that we're ready.\n",
              "        channel.send({})\n",
              "        if (message.buffers) {\n",
              "          for (const buffer of message.buffers) {\n",
              "            buffers.push(buffer);\n",
              "            downloaded += buffer.byteLength;\n",
              "            progress.value = downloaded;\n",
              "          }\n",
              "        }\n",
              "      }\n",
              "      const blob = new Blob(buffers, {type: 'application/binary'});\n",
              "      const a = document.createElement('a');\n",
              "      a.href = window.URL.createObjectURL(blob);\n",
              "      a.download = filename;\n",
              "      div.appendChild(a);\n",
              "      a.click();\n",
              "      div.remove();\n",
              "    }\n",
              "  "
            ]
          },
          "metadata": {}
        },
        {
          "output_type": "display_data",
          "data": {
            "text/plain": [
              "<IPython.core.display.Javascript object>"
            ],
            "application/javascript": [
              "download(\"download_bfa932f1-283d-4f24-affe-9b15cdb0d30a\", \"best_model.pth\", 31280954)"
            ]
          },
          "metadata": {}
        }
      ]
    },
    {
      "cell_type": "code",
      "source": [],
      "metadata": {
        "id": "1Sug2yX3gIDP"
      },
      "execution_count": null,
      "outputs": []
    }
  ],
  "metadata": {
    "accelerator": "GPU",
    "colab": {
      "gpuType": "T4",
      "provenance": []
    },
    "kernelspec": {
      "display_name": "Python 3",
      "name": "python3"
    },
    "language_info": {
      "name": "python"
    }
  },
  "nbformat": 4,
  "nbformat_minor": 0
}